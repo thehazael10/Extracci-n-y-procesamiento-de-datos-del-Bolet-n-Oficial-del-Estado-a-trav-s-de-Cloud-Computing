{
	"cells": [
		{
			"cell_type": "markdown",
			"id": "6de326aa",
			"metadata": {},
			"source": [
				"# Verificación de la versión de python empleada"
			]
		},
		{
			"cell_type": "code",
			"execution_count": null,
			"id": "ef40dbad-eadd-4c8c-98d0-e48713a03dbd",
			"metadata": {
				"tags": [],
				"trusted": true
			},
			"outputs": [],
			"source": [
				"import sys\n",
				"print(f\"Versión de Python: {sys.version}\")\n"
			]
		},
		{
			"cell_type": "markdown",
			"id": "e4972db6",
			"metadata": {},
			"source": [
				"# Importar las librerías adicionales"
			]
		},
		{
			"cell_type": "code",
			"execution_count": null,
			"id": "1160d90b-5231-4c15-8ec2-b57f0cdae402",
			"metadata": {
				"tags": [],
				"trusted": true
			},
			"outputs": [],
			"source": [
				"import sys\n",
				"import os\n",
				"\n",
				"# Añadir la carpeta correcta a sys.path\n",
				"sys.path.insert(0, '/tmp/python/python/')\n",
				"\n",
				"# Verificar que la ruta se ha agregado correctamente\n",
				"print(\"Rutas actuales en sys.path:\")\n",
				"print(sys.path)\n",
				"\n",
				"# Verificar el contenido de la carpeta python para confirmar que están las bibliotecas\n",
				"print(\"Contenido de /tmp/python/python/:\")\n",
				"print(os.listdir('/tmp/python/python/'))\n"
			]
		},
		{
			"cell_type": "markdown",
			"id": "c5f84672",
			"metadata": {},
			"source": [
				"# Testear las librerías"
			]
		},
		{
			"cell_type": "code",
			"execution_count": null,
			"id": "b6a6e1e2-14a7-4df9-80db-903ceeff8f78",
			"metadata": {
				"tags": [],
				"trusted": true
			},
			"outputs": [],
			"source": [
				"import requests\n",
				"import lxml\n",
				"\n",
				"print(f\"requests versión: {requests.__version__}\")\n",
				"print(f\"lxml versión: {lxml.__version__}\")\n"
			]
		},
		{
			"cell_type": "markdown",
			"id": "df45edc7",
			"metadata": {},
			"source": [
				"# Selecionar los rangos de fechas con los que trabajar"
			]
		},
		{
			"cell_type": "code",
			"execution_count": null,
			"id": "48a69096-e2f2-4e02-9955-443470cf987c",
			"metadata": {
				"tags": [],
				"trusted": true
			},
			"outputs": [],
			"source": [
				"from datetime import datetime\n",
				"\n",
				"# Definir las fechas de inicio y fin para la descarga histórica\n",
				"fecha_inicio = \"2024-09-01\"  # Fecha de inicio en formato YYYY-MM-DD\n",
				"fecha_fin = \"2024-09-7\"     # Fecha de fin en formato YYYY-MM-DD\n",
				"\n",
				"# Convertir las fechas en objetos datetime\n",
				"fecha_inicio_dt = datetime.strptime(fecha_inicio, '%Y-%m-%d')\n",
				"fecha_fin_dt = datetime.strptime(fecha_fin, '%Y-%m-%d')\n",
				"\n",
				"print(f\"Descargando sumarios entre {fecha_inicio} y {fecha_fin}\")\n"
			]
		},
		{
			"cell_type": "markdown",
			"id": "5f5c1808",
			"metadata": {},
			"source": [
				"# Funciones de descarga de sumarios, contenidos trasformación y limpieza de los datos."
			]
		},
		{
			"cell_type": "code",
			"execution_count": 11,
			"id": "8d164ce6-f589-4eaa-97d5-aa82d48d3cb7",
			"metadata": {
				"tags": [],
				"trusted": true
			},
			"outputs": [],
			"source": [
				"import requests\n",
				"import boto3\n",
				"\n",
				"# Inicializar cliente de S3\n",
				"s3 = boto3.client('s3')\n",
				"bucket_name = 'buckettestdescargas'\n",
				"sumario_prefix = 'Descargas_sumarios/'\n",
				"\n",
				"# Función para descargar el sumario para una fecha específica\n",
				"def descargar_sumario(fecha):\n",
				"    # Convertir la fecha al formato adecuado para la API\n",
				"    fecha_str = fecha.strftime('%Y%m%d')\n",
				"    url = f\"https://www.boe.es/diario_boe/xml.php?id=BOE-S-{fecha_str}\"\n",
				"    \n",
				"    try:\n",
				"        # Descargar el sumario en formato XML\n",
				"        response = requests.get(url)\n",
				"        response.raise_for_status()\n",
				"        sumario_xml = response.content\n",
				"\n",
				"        # Subir el archivo a S3\n",
				"        nombre_archivo = f\"sumario_{fecha.strftime('%Y-%m-%d')}.xml\"\n",
				"        s3_key = f\"{sumario_prefix}{nombre_archivo}\"\n",
				"        s3.put_object(Bucket=bucket_name, Key=s3_key, Body=sumario_xml, ContentType='application/xml')\n",
				"\n",
				"        print(f\"Sumario del {fecha.strftime('%Y-%m-%d')} descargado y almacenado en S3.\")\n",
				"        return s3_key\n",
				"\n",
				"    except requests.exceptions.RequestException as e:\n",
				"        print(f\"Error al descargar el sumario para la fecha {fecha.strftime('%Y-%m-%d')}: {e}\")\n",
				"        return None\n"
			]
		},
		{
			"cell_type": "code",
			"execution_count": null,
			"id": "c8b03be2-bd8b-4c90-bf75-fb848b770456",
			"metadata": {
				"tags": [],
				"trusted": true
			},
			"outputs": [],
			"source": [
				"from datetime import timedelta\n",
				"\n",
				"# Función para procesar un rango de fechas y descargar los sumarios\n",
				"def procesar_rango_fechas(fecha_inicio, fecha_fin):\n",
				"    fecha_actual = fecha_inicio\n",
				"\n",
				"    while fecha_actual <= fecha_fin:\n",
				"        print(f\"Procesando fecha {fecha_actual.strftime('%Y-%m-%d')}\")\n",
				"        descargar_sumario(fecha_actual)\n",
				"        fecha_actual += timedelta(days=1)\n",
				"\n",
				"# Ejecutar la descarga para el rango de fechas\n",
				"procesar_rango_fechas(fecha_inicio_dt, fecha_fin_dt)\n"
			]
		},
		{
			"cell_type": "code",
			"execution_count": null,
			"id": "8ac63db8-f651-412c-8dbc-fa77e7c8bac0",
			"metadata": {},
			"outputs": [],
			"source": [
				"# Función para verificar los sumarios descargados en S3\n",
				"def verificar_descargas(fecha_inicio, fecha_fin):\n",
				"    fecha_actual = fecha_inicio\n",
				"\n",
				"    while fecha_actual <= fecha_fin:\n",
				"        nombre_archivo = f\"sumario_{fecha_actual.strftime('%Y-%m-%d')}.xml\"\n",
				"        s3_key = f\"{sumario_prefix}{nombre_archivo}\"\n",
				"\n",
				"        try:\n",
				"            s3.head_object(Bucket=bucket_name, Key=s3_key)\n",
				"            print(f\"Sumario del {fecha_actual.strftime('%Y-%m-%d')} está presente en S3.\")\n",
				"        except:\n",
				"            print(f\"Sumario del {fecha_actual.strftime('%Y-%m-%d')} NO encontrado en S3.\")\n",
				"\n",
				"        fecha_actual += timedelta(days=1)\n",
				"\n",
				"# Verificar los sumarios descargados\n",
				"verificar_descargas(fecha_inicio_dt, fecha_fin_dt)\n"
			]
		},
		{
			"cell_type": "code",
			"execution_count": null,
			"id": "6aec73c9-d23a-427f-bce5-1583c4138d7f",
			"metadata": {},
			"outputs": [],
			"source": [
				"# Función para eliminar los sumarios descargados en S3\n",
				"def eliminar_archivos(fecha_inicio, fecha_fin):\n",
				"    fecha_actual = fecha_inicio\n",
				"\n",
				"    while fecha_actual <= fecha_fin:\n",
				"        nombre_archivo = f\"sumario_{fecha_actual.strftime('%Y-%m-%d')}.xml\"\n",
				"        s3_key = f\"{sumario_prefix}{nombre_archivo}\"\n",
				"\n",
				"        try:\n",
				"            s3.delete_object(Bucket=bucket_name, Key=s3_key)\n",
				"            print(f\"Sumario del {fecha_actual.strftime('%Y-%m-%d')} eliminado de S3.\")\n",
				"        except:\n",
				"            print(f\"Error al eliminar el sumario del {fecha_actual.strftime('%Y-%m-%d')} en S3.\")\n",
				"\n",
				"        fecha_actual += timedelta(days=1)\n",
				"\n",
				"# Eliminar los archivos entre el rango de fechas\n",
				"# eliminar_archivos(fecha_inicio_dt, fecha_fin_dt) # Descomenta esta línea si quieres eliminar los archivos\n"
			]
		}
	],
	"metadata": {
		"kernelspec": {
			"display_name": "Python 3 (ipykernel)",
			"language": "python",
			"name": "python3"
		},
		"language_info": {
			"codemirror_mode": {
				"name": "ipython",
				"version": 3
			},
			"file_extension": ".py",
			"mimetype": "text/x-python",
			"name": "python",
			"nbconvert_exporter": "python",
			"pygments_lexer": "ipython3",
			"version": "3.9.9"
		}
	},
	"nbformat": 4,
	"nbformat_minor": 5
}
